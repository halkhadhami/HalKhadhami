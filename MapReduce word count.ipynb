{
 "cells": [
  {
   "cell_type": "markdown",
   "metadata": {},
   "source": [
    "### MapReduce python code"
   ]
  },
  {
   "cell_type": "code",
   "execution_count": 87,
   "metadata": {},
   "outputs": [],
   "source": [
    "import string"
   ]
  },
  {
   "cell_type": "code",
   "execution_count": 88,
   "metadata": {},
   "outputs": [],
   "source": [
    "file = open(\"db/Leonardo.txt\")\n",
    "data = file.read()"
   ]
  },
  {
   "cell_type": "code",
   "execution_count": 89,
   "metadata": {},
   "outputs": [
    {
     "name": "stdout",
     "output_type": "stream",
     "text": [
      "Total words in the text file = 7372\n"
     ]
    }
   ],
   "source": [
    "data = data.translate(str.maketrans('', '', string.punctuation))\n",
    "data = data.lower()\n",
    "data = ''.join([i for i in data if not i.isdigit()])\n",
    "data = data.strip()\n",
    "words = data.split()\n",
    "print('Total words in the text file =',len(words))"
   ]
  },
  {
   "cell_type": "markdown",
   "metadata": {},
   "source": [
    "### 1-Mapper"
   ]
  },
  {
   "cell_type": "code",
   "execution_count": 90,
   "metadata": {},
   "outputs": [],
   "source": [
    "def mapp(thestring):\n",
    "    word_count = []\n",
    "    for word in thestring:\n",
    "        key = word\n",
    "        value = [1]\n",
    "        dic = {key : value}\n",
    "        word_count.append(dic)\n",
    "    \n",
    "    return word_count"
   ]
  },
  {
   "cell_type": "markdown",
   "metadata": {},
   "source": [
    "### Group keys with equal vaiues"
   ]
  },
  {
   "cell_type": "code",
   "execution_count": 91,
   "metadata": {},
   "outputs": [],
   "source": [
    "def group(thestring):\n",
    "    word_count = dict()\n",
    "    for word in thestring:\n",
    "        key = word\n",
    "        value = [1]\n",
    "            \n",
    "        if key in word_count:\n",
    "            word_count[key].append(value)\n",
    "            \n",
    "        else:\n",
    "            word_count.update( {key : value} )\n",
    "    \n",
    "    return word_count"
   ]
  },
  {
   "cell_type": "markdown",
   "metadata": {},
   "source": [
    "### 2-Reducer"
   ]
  },
  {
   "cell_type": "code",
   "execution_count": 92,
   "metadata": {},
   "outputs": [],
   "source": [
    "def reduce(thestring):\n",
    "    \n",
    "    word_count = dict()\n",
    "    for word in thestring:\n",
    "        key = word\n",
    "        value = 1\n",
    "        \n",
    "        if key in word_count:\n",
    "            word_count[key] += value\n",
    "        else:\n",
    "            word_count.update( {key : value} )\n",
    "    \n",
    "    return word_count"
   ]
  },
  {
   "cell_type": "code",
   "execution_count": 93,
   "metadata": {},
   "outputs": [],
   "source": [
    "word_count = mapp(words)\n",
    "#print('mapp count for each word =' , word_count)"
   ]
  },
  {
   "cell_type": "code",
   "execution_count": 94,
   "metadata": {},
   "outputs": [],
   "source": [
    "word_count = group(words)\n",
    "#print('group count for each word =' , word_count)"
   ]
  },
  {
   "cell_type": "code",
   "execution_count": 95,
   "metadata": {},
   "outputs": [],
   "source": [
    "word_count = reduce(words)\n",
    "#print('reduce count  for each word =' , word_count)"
   ]
  },
  {
   "cell_type": "code",
   "execution_count": null,
   "metadata": {},
   "outputs": [],
   "source": []
  },
  {
   "cell_type": "code",
   "execution_count": null,
   "metadata": {},
   "outputs": [],
   "source": []
  }
 ],
 "metadata": {
  "kernelspec": {
   "display_name": "Python 3",
   "language": "python",
   "name": "python3"
  },
  "language_info": {
   "codemirror_mode": {
    "name": "ipython",
    "version": 3
   },
   "file_extension": ".py",
   "mimetype": "text/x-python",
   "name": "python",
   "nbconvert_exporter": "python",
   "pygments_lexer": "ipython3",
   "version": "3.6.6"
  }
 },
 "nbformat": 4,
 "nbformat_minor": 4
}
