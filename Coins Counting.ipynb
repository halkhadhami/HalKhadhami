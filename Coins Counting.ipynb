{
 "cells": [
  {
   "cell_type": "code",
   "execution_count": 1,
   "id": "fb58d3bf-863f-4432-b12e-f56e8d8c01f0",
   "metadata": {
    "tags": []
   },
   "outputs": [],
   "source": [
    "import cv2,configparser\n",
    "import numpy as np\n",
    "import matplotlib.pyplot as plt\n",
    "\n",
    "cap=cv2.VideoCapture('3.mp4')\n",
    "\n",
    "# Loop that runs until we reach an end of a video\n",
    "while(True):\n",
    "    ret, img=cap.read()\n",
    "    if ret == True:\n",
    "        cv2.namedWindow('Video',cv2.WINDOW_NORMAL)\n",
    "        cv2.resizeWindow('Video', 600,600)\n",
    "        cv2.imshow(\"Video\", img)\n",
    "        img_cpy=img.copy()\n",
    "        h,w,c = img.shape\n",
    "        img = cv2.cvtColor(img,cv2.COLOR_BGR2GRAY)\n",
    "        plt.rcParams['figure.figsize'] = (16,9)\n",
    "        img=cv2.blur(img,(3,3))\n",
    "        img = cv2.Canny(img, 10, 150)\n",
    "        #cv2.namedWindow('Canny',cv2.WINDOW_NORMAL)\n",
    "        #cv2.resizeWindow('Canny', 600,600)\n",
    "        #cv2.imshow('Canny',img)\n",
    "        moedas = cv2.HoughCircles(img,cv2.HOUGH_GRADIENT ,0.9,120,param1=50,param2=30,minRadius=95,maxRadius=110)\n",
    "        count=0\n",
    "        if moedas is not None:\n",
    "            moedas_round = np.uint16(np.around(moedas))\n",
    "            for i in moedas_round[0, :]:\n",
    "                cv2.circle(img_cpy,(i[0],i[1]),i[2],(0,0,255),5)\n",
    "                cv2.putText(img_cpy,'+', (i[0],i[1]-2),cv2.FONT_HERSHEY_SIMPLEX,1.1,(0,0,255),2)\n",
    "                count=count+1\n",
    "            cv2.putText(img_cpy,'Total = '+str(count),(20,50),cv2.FONT_HERSHEY_SIMPLEX,2,(0,0,255),4) \n",
    "        cv2.namedWindow('Final',cv2.WINDOW_NORMAL)\n",
    "        cv2.resizeWindow('Final', 600,600)\n",
    "        cv2.imshow(\"Final\",img_cpy)\n",
    "      # When we press Q on our keyboard to exit video\n",
    "    if cv2.waitKey(1) & 0xFF == ord('q'):\n",
    "        break\n",
    "# Release the video capture object\n",
    "cap.release()\n",
    "\n",
    "# Closes all the frames\n",
    "cv2.destroyAllWindows()\n"
   ]
  },
  {
   "cell_type": "code",
   "execution_count": null,
   "id": "578efca3-8637-4ccf-b294-2f5b659b7c66",
   "metadata": {},
   "outputs": [],
   "source": []
  },
  {
   "cell_type": "code",
   "execution_count": null,
   "id": "47c452ab-064f-459d-8f66-c537a842059c",
   "metadata": {},
   "outputs": [],
   "source": []
  }
 ],
 "metadata": {
  "kernelspec": {
   "display_name": "Python 3 (ipykernel)",
   "language": "python",
   "name": "python3"
  },
  "language_info": {
   "codemirror_mode": {
    "name": "ipython",
    "version": 3
   },
   "file_extension": ".py",
   "mimetype": "text/x-python",
   "name": "python",
   "nbconvert_exporter": "python",
   "pygments_lexer": "ipython3",
   "version": "3.9.12"
  }
 },
 "nbformat": 4,
 "nbformat_minor": 5
}
