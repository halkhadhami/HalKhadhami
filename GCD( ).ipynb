{
 "cells": [
  {
   "cell_type": "markdown",
   "metadata": {},
   "source": [
    "## Euclid's algorithm"
   ]
  },
  {
   "cell_type": "code",
   "execution_count": 56,
   "metadata": {},
   "outputs": [],
   "source": [
    "def EUC_REC_GCD(m,n):\n",
    "    if(n==0):\n",
    "        return m\n",
    "    else:\n",
    "        return EUC_REC_GCD(n,m%n)"
   ]
  },
  {
   "cell_type": "code",
   "execution_count": 57,
   "metadata": {},
   "outputs": [],
   "source": [
    "def EUC_GCD(m, n):\n",
    "  \n",
    "   while(n):\n",
    "       m, n = n, m % n\n",
    "  \n",
    "   return m"
   ]
  },
  {
   "cell_type": "markdown",
   "metadata": {},
   "source": [
    "## consecutive integer algorithm"
   ]
  },
  {
   "cell_type": "code",
   "execution_count": 58,
   "metadata": {},
   "outputs": [],
   "source": [
    "def CON_INT_GCD(m,n):\n",
    "    t = n\n",
    "    if m< n: \n",
    "        t = m\n",
    "    if(m%t) == 0:\n",
    "        if n%t == 0:\n",
    "            return t\n",
    "    else:\n",
    "        t -=1\n",
    "        return (CON_INT_GCD(n, m % n)) # recursion taking place"
   ]
  },
  {
   "cell_type": "markdown",
   "metadata": {},
   "source": [
    "## brute force algorithm"
   ]
  },
  {
   "cell_type": "code",
   "execution_count": 65,
   "metadata": {},
   "outputs": [],
   "source": [
    "def BF_GCD(m,n):\n",
    "    for i in range(n+1,0,-1):\n",
    "        if m % i == 0 and n % i == 0:\n",
    "            return i"
   ]
  },
  {
   "cell_type": "code",
   "execution_count": 66,
   "metadata": {},
   "outputs": [],
   "source": [
    "def ALL_BF_GCD(m,n):\n",
    "    m_factors = []\n",
    "    n_factors = []\n",
    "    products = []\n",
    "    prod = 1\n",
    "    for i in range(1,m+1):\n",
    "        if m%i == 0:\n",
    "            m_factors.append(i)\n",
    "\n",
    "    for j in range(1,n+1):\n",
    "        if n%j == 0:\n",
    "            n_factors.append(j)\n",
    "\n",
    "    for num1 in m_factors:\n",
    "        for num2 in n_factors:\n",
    "            if num1 == num2:\n",
    "                prod *= num1\n",
    "                products.append(num1)\n",
    "    return prod"
   ]
  },
  {
   "cell_type": "code",
   "execution_count": 68,
   "metadata": {},
   "outputs": [
    {
     "name": "stdout",
     "output_type": "stream",
     "text": [
      "euclid's algorithm GCD = 1\n",
      "consecutive integer algorithm GCD = 1\n",
      "brute force algorithm GCD = 1\n",
      "all brute force algorithm GCD = 1\n"
     ]
    }
   ],
   "source": [
    "a = 971\n",
    "b = 100\n",
    "print('euclid\\'s algorithm GCD =',EUC_REC_GCD(a,b))\n",
    "print('consecutive integer algorithm GCD =',CON_INT_GCD(a,b))\n",
    "print('brute force algorithm GCD =',BF_GCD(a,b))\n",
    "print('all brute force algorithm GCD =',ALL_BF_GCD(a,b))"
   ]
  },
  {
   "cell_type": "code",
   "execution_count": null,
   "metadata": {},
   "outputs": [],
   "source": []
  }
 ],
 "metadata": {
  "kernelspec": {
   "display_name": "Python 3",
   "language": "python",
   "name": "python3"
  },
  "language_info": {
   "codemirror_mode": {
    "name": "ipython",
    "version": 3
   },
   "file_extension": ".py",
   "mimetype": "text/x-python",
   "name": "python",
   "nbconvert_exporter": "python",
   "pygments_lexer": "ipython3",
   "version": "3.6.6"
  }
 },
 "nbformat": 4,
 "nbformat_minor": 4
}
