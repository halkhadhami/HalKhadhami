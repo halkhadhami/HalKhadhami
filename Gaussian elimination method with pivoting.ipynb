{
 "cells": [
  {
   "cell_type": "code",
   "execution_count": 40,
   "metadata": {},
   "outputs": [],
   "source": [
    "import numpy as np"
   ]
  },
  {
   "cell_type": "code",
   "execution_count": 41,
   "metadata": {},
   "outputs": [],
   "source": [
    "def Cal_LU(D,g):\n",
    "    A=np.array((D),dtype=float)\n",
    "    f=np.array((g),dtype=float)\n",
    "    n = f.size\n",
    "    for i in range(0,n-1):     # Loop through the columns of the matrix\n",
    "        for j in range(i+1,n):     # Loop through rows below diagonal for each column\n",
    "            if A[i,i] == 0:\n",
    "                print(\"Error: Zero on diagonal!\")\n",
    "                print(\"Need algorithm with pivoting\")\n",
    "                break\n",
    "            m = A[j,i]/A[i,i]\n",
    "            A[j,:] = A[j,:] - m*A[i,:]\n",
    "            f[j] = f[j] - m*f[i]\n",
    "    return A,f"
   ]
  },
  {
   "cell_type": "code",
   "execution_count": 42,
   "metadata": {},
   "outputs": [],
   "source": [
    "def Back_Subs(A,f):\n",
    "    n = f.size\n",
    "    x = np.zeros(n)             # Initialize the solution vector, x, to zero\n",
    "    x[n-1] = f[n-1]/A[n-1,n-1]    # Solve for last entry first\n",
    "    for i in range(n-2,-1,-1):      # Loop from the end to the beginning\n",
    "        sum_ = 0\n",
    "        for j in range(i+1,n):        # For known x values, sum and move to rhs\n",
    "            sum_ = sum_ + A[i,j]*x[j]\n",
    "        x[i] = (f[i] - sum_)/A[i,i]\n",
    "    return x"
   ]
  },
  {
   "cell_type": "code",
   "execution_count": 43,
   "metadata": {},
   "outputs": [
    {
     "name": "stdout",
     "output_type": "stream",
     "text": [
      "[1. 2. 3.]\n"
     ]
    }
   ],
   "source": [
    "A = np.array([[2,3,5],[3,4,1],[6,7,2]])\n",
    "f = np.array([23,14,26])\n",
    "B,g = Cal_LU(A,f)\n",
    "x= Back_Subs(B,g)\n",
    "print(x)"
   ]
  },
  {
   "cell_type": "code",
   "execution_count": 44,
   "metadata": {},
   "outputs": [
    {
     "name": "stdout",
     "output_type": "stream",
     "text": [
      "[1. 2. 3.]\n"
     ]
    }
   ],
   "source": [
    "y = np.linalg.solve(A,f)\n",
    "print(y)"
   ]
  },
  {
   "cell_type": "code",
   "execution_count": 45,
   "metadata": {},
   "outputs": [
    {
     "name": "stdout",
     "output_type": "stream",
     "text": [
      "[17.88461538 45.96153846  1.15384615]\n"
     ]
    }
   ],
   "source": [
    "A = np.array([[0.9,0.3,0.1], [0.1,0.5,0.2],[0,0.2,0.7]])\n",
    "f = np.array([30.0,25.0,10.0])\n",
    "B,g = Cal_LU(A,f)\n",
    "x = Back_Subs(B,g)\n",
    "print(x)"
   ]
  },
  {
   "cell_type": "code",
   "execution_count": 46,
   "metadata": {},
   "outputs": [
    {
     "name": "stdout",
     "output_type": "stream",
     "text": [
      "[17.88461538 45.96153846  1.15384615]\n"
     ]
    }
   ],
   "source": [
    "x = np.linalg.solve(A,f)\n",
    "print(x)"
   ]
  },
  {
   "cell_type": "code",
   "execution_count": 47,
   "metadata": {},
   "outputs": [],
   "source": [
    "def Cal_LU_pivot(D,g):\n",
    "    A=np.array((D),dtype=float)\n",
    "    f=np.array((g),dtype=float)\n",
    "    n = len(f)\n",
    "    for i in range(0,n-1):     # Loop through the columns of the matrix\n",
    "        \n",
    "        if np.abs(A[i,i])==0:\n",
    "            for k in range(i+1,n):\n",
    "                if np.abs(A[k,i])>np.abs(A[i,i]):\n",
    "                    A[[i,k]]=A[[k,i]]             # Swaps ith and kth rows to each other\n",
    "                    f[[i,k]]=f[[k,i]]\n",
    "                    break\n",
    "                    \n",
    "        for j in range(i+1,n):     # Loop through rows below diagonal for each column\n",
    "            m = A[j,i]/A[i,i]\n",
    "            A[j,:] = A[j,:] - m*A[i,:]\n",
    "            f[j] = f[j] - m*f[i]\n",
    "    return A,f"
   ]
  },
  {
   "cell_type": "code",
   "execution_count": 48,
   "metadata": {},
   "outputs": [
    {
     "name": "stdout",
     "output_type": "stream",
     "text": [
      "[ 3.07619048 -0.28571429  4.77142857]\n"
     ]
    }
   ],
   "source": [
    "A = np.array([[0,3,5],[3,0,1],[6,7,2]])\n",
    "f = np.array([23,14,26])\n",
    "B,g = Cal_LU_pivot(A,f)\n",
    "x= Back_Subs(B,g)\n",
    "print(x)"
   ]
  },
  {
   "cell_type": "code",
   "execution_count": 49,
   "metadata": {},
   "outputs": [
    {
     "name": "stdout",
     "output_type": "stream",
     "text": [
      "[ 3.07619048 -0.28571429  4.77142857]\n"
     ]
    }
   ],
   "source": [
    "x = np.linalg.solve(A,f)\n",
    "print(x)"
   ]
  },
  {
   "cell_type": "code",
   "execution_count": 50,
   "metadata": {},
   "outputs": [],
   "source": [
    "def Cal_JE_Partial_Piovting(D,g):\n",
    "    A=np.array((D),dtype=float)\n",
    "    f=np.array((g),dtype=float)\n",
    "    n = len(f)\n",
    "\n",
    "    for i in range(0,n-1):        # Loop through the columns of the matrix \n",
    "        \n",
    "        for k in range(i+1,n):    # loop for find max element under pivot element\n",
    "            if np.abs(A[i,i]) < np.abs(A[k,i]):\n",
    "                A[[i,k]]=A[[k,i]]             # Swaps ith and kth rows to each other\n",
    "                f[[i,k]]=f[[k,i]]\n",
    "                \n",
    "                print('======================================')\n",
    "                print('swich row no :',i+1,'with row no',k+1,':\\n',A)\n",
    "        \n",
    "        for j in range(i+1,n):     # Loop through rows below diagonal for each column\n",
    "            m = A[j,i]/A[i,i]\n",
    "            A[j,:] = A[j,:] - m*A[i,:]\n",
    "            f[j] = f[j] - m*f[i]\n",
    "     \n",
    "        print('======================================')\n",
    "        print('solve piovtal element no :',i+1,'\\n',A)\n",
    "                \n",
    "    return A,f"
   ]
  },
  {
   "cell_type": "code",
   "execution_count": 51,
   "metadata": {},
   "outputs": [
    {
     "name": "stdout",
     "output_type": "stream",
     "text": [
      "[[ 1  0  2  3]\n",
      " [-1  2  2 -3]\n",
      " [ 0  1  1  4]\n",
      " [ 6  2  2  4]]\n",
      "======================================\n",
      "swich row no : 1 with row no 4 :\n",
      " [[ 6.  2.  2.  4.]\n",
      " [-1.  2.  2. -3.]\n",
      " [ 0.  1.  1.  4.]\n",
      " [ 1.  0.  2.  3.]]\n",
      "======================================\n",
      "solve piovtal element no : 1 \n",
      " [[ 6.          2.          2.          4.        ]\n",
      " [ 0.          2.33333333  2.33333333 -2.33333333]\n",
      " [ 0.          1.          1.          4.        ]\n",
      " [ 0.         -0.33333333  1.66666667  2.33333333]]\n",
      "======================================\n",
      "solve piovtal element no : 2 \n",
      " [[ 6.          2.          2.          4.        ]\n",
      " [ 0.          2.33333333  2.33333333 -2.33333333]\n",
      " [ 0.          0.          0.          5.        ]\n",
      " [ 0.          0.          2.          2.        ]]\n",
      "======================================\n",
      "swich row no : 3 with row no 4 :\n",
      " [[ 6.          2.          2.          4.        ]\n",
      " [ 0.          2.33333333  2.33333333 -2.33333333]\n",
      " [ 0.          0.          2.          2.        ]\n",
      " [ 0.          0.          0.          5.        ]]\n",
      "======================================\n",
      "solve piovtal element no : 3 \n",
      " [[ 6.          2.          2.          4.        ]\n",
      " [ 0.          2.33333333  2.33333333 -2.33333333]\n",
      " [ 0.          0.          2.          2.        ]\n",
      " [ 0.          0.          0.          5.        ]]\n",
      "======================================\n",
      "the group of solution is:\n",
      " [-0.18571429  0.22857143 -0.11428571  0.47142857]\n"
     ]
    }
   ],
   "source": [
    "A = np.array([[1,0,2,3],[-1,2,2,-3],[0,1,1,4],[6,2,2,4]])\n",
    "print(A) \n",
    "f = np.array([1,-1,2,1])\n",
    "B,g = Cal_JE_Partial_Piovting(A,f)\n",
    "x= Back_Subs(B,g)\n",
    "print('======================================')\n",
    "print('the group of solution is:\\n',x)\n",
    "#print(np.max(A[0,:]))"
   ]
  },
  {
   "cell_type": "code",
   "execution_count": 52,
   "metadata": {},
   "outputs": [
    {
     "name": "stdout",
     "output_type": "stream",
     "text": [
      "[-0.18571429  0.22857143 -0.11428571  0.47142857]\n"
     ]
    }
   ],
   "source": [
    "x = np.linalg.solve(A,f)\n",
    "print(x)"
   ]
  },
  {
   "cell_type": "code",
   "execution_count": null,
   "metadata": {},
   "outputs": [],
   "source": []
  }
 ],
 "metadata": {
  "kernelspec": {
   "display_name": "Python 3",
   "language": "python",
   "name": "python3"
  },
  "language_info": {
   "codemirror_mode": {
    "name": "ipython",
    "version": 3
   },
   "file_extension": ".py",
   "mimetype": "text/x-python",
   "name": "python",
   "nbconvert_exporter": "python",
   "pygments_lexer": "ipython3",
   "version": "3.6.6"
  }
 },
 "nbformat": 4,
 "nbformat_minor": 4
}
