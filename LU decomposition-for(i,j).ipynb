{
 "cells": [
  {
   "cell_type": "code",
   "execution_count": 1,
   "metadata": {},
   "outputs": [],
   "source": [
    "import numpy as np"
   ]
  },
  {
   "cell_type": "code",
   "execution_count": 2,
   "metadata": {},
   "outputs": [],
   "source": [
    "# system matrix\n",
    "#A = np.array([[1,1,-1],[1,2,-2],[-2,1,1]])\n",
    "A = np.array([[2,-1,0],[-1,2,-1],[0,-1,2]])\n",
    "b = np.array([1,1,1])"
   ]
  },
  {
   "cell_type": "markdown",
   "metadata": {},
   "source": [
    "## forward substitution"
   ]
  },
  {
   "cell_type": "code",
   "execution_count": 3,
   "metadata": {},
   "outputs": [],
   "source": [
    "def for_sub(L, b):\n",
    "    \n",
    "    n = L.shape[0]\n",
    "    y = np.zeros_like(b, dtype=np.double)\n",
    "    y[0] = b[0] / L[0, 0]\n",
    "    \n",
    "    for i in range(n):\n",
    "     \n",
    "        s = sum(L[i,j] * y[j] for j in range(i))\n",
    "        y[i] = (b[i] - s )/ L[i,i]\n",
    "        \n",
    "    return y"
   ]
  },
  {
   "cell_type": "markdown",
   "metadata": {},
   "source": [
    "## backward substitution"
   ]
  },
  {
   "cell_type": "code",
   "execution_count": 4,
   "metadata": {},
   "outputs": [],
   "source": [
    "def bac_sub(U, y):\n",
    "    \n",
    "    n = U.shape[0]\n",
    "    x = np.zeros_like(y, dtype=np.double)\n",
    "    x[n-1] = y[n-1] / U[n-1,n-1]\n",
    "    \n",
    "    for i in range(n-1,-1,-1):\n",
    "         \n",
    "        s = sum(U[i,j] * x[j] for j in range(i+1,n))\n",
    "        x[i] = (y[i] - s) / U[i,i]\n",
    "        \n",
    "    return x"
   ]
  },
  {
   "cell_type": "markdown",
   "metadata": {},
   "source": [
    "## Doolittle decomposition"
   ]
  },
  {
   "cell_type": "code",
   "execution_count": 5,
   "metadata": {},
   "outputs": [],
   "source": [
    "def doolittle(A):\n",
    "    \n",
    "    n = A.shape[0]\n",
    "    \n",
    "    U = np.zeros((n, n), dtype=np.double)\n",
    "    L = np.eye(n, dtype=np.double)\n",
    "    \n",
    "    for i in range(n):\n",
    "        \n",
    "        for j in range(i,n):\n",
    "            \n",
    "            s1 = sum(L[i][k] * U[k][j] for k in range(i))\n",
    "            U[i,j]= A[i,j]- s1\n",
    "            s1 = 0\n",
    "            \n",
    "        for j in range(i+1,n):\n",
    "            s2 = sum(L[j][k] * U[k][i] for k in range(i))\n",
    "            L[j][i] = (A[j][i] - s2) / U[i][i]\n",
    "            s2 = 0\n",
    "            \n",
    "    return L, U"
   ]
  },
  {
   "cell_type": "code",
   "execution_count": 6,
   "metadata": {},
   "outputs": [
    {
     "name": "stdout",
     "output_type": "stream",
     "text": [
      "d-lower matrix\n",
      " [[ 1.          0.          0.        ]\n",
      " [-0.5         1.          0.        ]\n",
      " [ 0.         -0.66666667  1.        ]] \n",
      " d-uper matrix\n",
      " [[ 2.         -1.          0.        ]\n",
      " [ 0.          1.5        -1.        ]\n",
      " [ 0.          0.          1.33333333]] \n",
      "\n",
      "y matrix=\n",
      " [1.  1.5 2. ]\n",
      "the group of solution is: \n",
      " [1.5 2.  1.5]\n"
     ]
    }
   ],
   "source": [
    "l,u = doolittle(A)\n",
    "print('d-lower matrix\\n',l,'\\n','d-uper matrix\\n',u,'\\n')\n",
    "\n",
    "y = for_sub(l,b)\n",
    "print('y matrix=\\n',y)\n",
    "x = bac_sub(u,y)\n",
    "print('the group of solution is: \\n',x)"
   ]
  },
  {
   "cell_type": "markdown",
   "metadata": {},
   "source": [
    "## crout decomposition"
   ]
  },
  {
   "cell_type": "code",
   "execution_count": 7,
   "metadata": {},
   "outputs": [],
   "source": [
    "def crout(a):\n",
    "    \n",
    "    n = a.shape[0]\n",
    "    \n",
    "    U = np.zeros((n, n), dtype=np.double)\n",
    "    L = np.zeros((n, n), dtype=np.double)\n",
    "    s1 = 0\n",
    "    s2 = 0\n",
    "\n",
    "    for i in range(n):\n",
    "        \n",
    "        L[i][0] = a[i][0]\n",
    "        U[i][i] = 1\n",
    "        \n",
    "        for j in range(1, n):\n",
    "            \n",
    "            U[0][j] = A[0][j] / L[0][0]\n",
    "            \n",
    "        for k in range(1, n):\n",
    "            \n",
    "            for i in range(k, n):\n",
    "                \n",
    "                s1 = sum(L[i][r] * U[r][k] for r in range(k))\n",
    "                L[i][k] = A[i][k] - s1\n",
    "                s1 = 0  \n",
    "                \n",
    "            for j in range(k+1, n):\n",
    "                \n",
    "                s2 = sum(L[k][r] * U[r][j] for r in range(k))\n",
    "                U[k][j] = (A[k][j] - s2) / L[k][k]\n",
    "                s2 = 0 \n",
    "                \n",
    "    return L, U"
   ]
  },
  {
   "cell_type": "code",
   "execution_count": 8,
   "metadata": {},
   "outputs": [
    {
     "name": "stdout",
     "output_type": "stream",
     "text": [
      "c-lower matrix\n",
      " [[ 2.          0.          0.        ]\n",
      " [-1.          1.5         0.        ]\n",
      " [ 0.         -1.          1.33333333]] \n",
      " c-uper matrix\n",
      " [[ 1.         -0.5         0.        ]\n",
      " [ 0.          1.         -0.66666667]\n",
      " [ 0.          0.          1.        ]] \n",
      "\n",
      "y matrix=\n",
      " [0.5 1.  1.5]\n",
      "the group of solution is: \n",
      " [1.5 2.  1.5]\n"
     ]
    }
   ],
   "source": [
    "l,u = crout(A)\n",
    "print('c-lower matrix\\n',l,'\\n','c-uper matrix\\n',u,'\\n')\n",
    "\n",
    "y = for_sub(l,b)\n",
    "print('y matrix=\\n',y)\n",
    "x = bac_sub(u,y)\n",
    "print('the group of solution is: \\n',x)"
   ]
  },
  {
   "cell_type": "markdown",
   "metadata": {},
   "source": [
    "## cholesky decomposition"
   ]
  },
  {
   "cell_type": "code",
   "execution_count": 9,
   "metadata": {},
   "outputs": [],
   "source": [
    "def cholesky(A):\n",
    "    \n",
    "    n = A.shape[0]\n",
    "    U = np.zeros((n, n), dtype=np.double)\n",
    "    \n",
    "    for i in range(n):\n",
    "        \n",
    "        s0 = sum(U[k][i] * U[k][i] for k in range(i))\n",
    "        U[i, i] = np.sqrt(A[i,i] - s0 )\n",
    "        s0 = 0\n",
    "               \n",
    "        for j in range(i+1,n):\n",
    "                   \n",
    "            s1 = sum(U[k,i] * U[k,j] for k in range(i))\n",
    "            U[i,j] = (A[i,j] - s1) / U[i, i]\n",
    "            s1 = 0\n",
    "    L=U.T\n",
    "    return L,U"
   ]
  },
  {
   "cell_type": "code",
   "execution_count": 10,
   "metadata": {},
   "outputs": [
    {
     "name": "stdout",
     "output_type": "stream",
     "text": [
      "ch-lower matrix\n",
      " [[ 1.41421356  0.          0.        ]\n",
      " [-0.70710678  1.22474487  0.        ]\n",
      " [ 0.         -0.81649658  1.15470054]] \n",
      " ch-uper matrix\n",
      " [[ 1.41421356 -0.70710678  0.        ]\n",
      " [ 0.          1.22474487 -0.81649658]\n",
      " [ 0.          0.          1.15470054]] \n",
      "\n",
      "y matrix=\n",
      " [0.70710678 1.22474487 1.73205081]\n",
      "the group of solution is: \n",
      " [1.5 2.  1.5]\n"
     ]
    }
   ],
   "source": [
    "l,u = cholesky(A)\n",
    "print('ch-lower matrix\\n',l,'\\n','ch-uper matrix\\n',u,'\\n')\n",
    "\n",
    "y = for_sub(l,b)\n",
    "print('y matrix=\\n',y)\n",
    "x = bac_sub(u,y)\n",
    "print('the group of solution is: \\n',x)"
   ]
  },
  {
   "cell_type": "code",
   "execution_count": 11,
   "metadata": {},
   "outputs": [
    {
     "name": "stdout",
     "output_type": "stream",
     "text": [
      "[[ 1.41421356  0.          0.        ]\n",
      " [-0.70710678  1.22474487  0.        ]\n",
      " [ 0.         -0.81649658  1.15470054]]\n"
     ]
    }
   ],
   "source": [
    "cholesky_factor = np.linalg.cholesky(A)\n",
    "\n",
    "print(cholesky_factor)"
   ]
  },
  {
   "cell_type": "code",
   "execution_count": 14,
   "metadata": {},
   "outputs": [
    {
     "name": "stdout",
     "output_type": "stream",
     "text": [
      "[[ 0.5    0.5   -0.5  ]\n",
      " [ 0.5   -0.25   0.   ]\n",
      " [-0.5    0.125  0.25 ]]\n"
     ]
    }
   ],
   "source": [
    "a = [[1,3,2],[2,2,4],[1,5,6]]\n",
    "print(np.linalg.inv(a))"
   ]
  },
  {
   "cell_type": "code",
   "execution_count": null,
   "metadata": {},
   "outputs": [],
   "source": []
  }
 ],
 "metadata": {
  "kernelspec": {
   "display_name": "Python 3",
   "language": "python",
   "name": "python3"
  },
  "language_info": {
   "codemirror_mode": {
    "name": "ipython",
    "version": 3
   },
   "file_extension": ".py",
   "mimetype": "text/x-python",
   "name": "python",
   "nbconvert_exporter": "python",
   "pygments_lexer": "ipython3",
   "version": "3.6.6"
  }
 },
 "nbformat": 4,
 "nbformat_minor": 4
}
