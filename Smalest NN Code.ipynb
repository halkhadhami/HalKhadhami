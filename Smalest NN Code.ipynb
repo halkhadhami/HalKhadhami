{
 "cells": [
  {
   "cell_type": "markdown",
   "metadata": {},
   "source": [
    "***\n",
    "# **building a simple neural network in Python**\n",
    "# **from scratch without using a neural network**\n",
    "# **library in just 9 lines of code**\n",
    "***"
   ]
  },
  {
   "cell_type": "code",
   "execution_count": 6,
   "metadata": {},
   "outputs": [
    {
     "name": "stdout",
     "output_type": "stream",
     "text": [
      "[0.99993704]\n"
     ]
    }
   ],
   "source": [
    "from numpy import exp, array, random, dot\n",
    "inputs = array([[0, 0, 1], [1, 1, 1], [1, 0, 1], [0, 1, 1]])\n",
    "outputs = array([[0, 1, 1, 0]]).T\n",
    "random.seed(1)\n",
    "weights = 2 * random.random((3, 1)) - 1\n",
    "for iteration in range(10000):\n",
    "    out = 1 / (1 + exp(-(dot(inputs, weights)))) #sigmoid function\n",
    "    weights += dot(inputs.T, (outputs - out) * out * (1 - out))\n",
    "print(1 / (1 + exp(-(dot(array([1, 0, 0]), weights)))))"
   ]
  },
  {
   "cell_type": "code",
   "execution_count": null,
   "metadata": {},
   "outputs": [],
   "source": []
  }
 ],
 "metadata": {
  "kernelspec": {
   "display_name": "Python 3",
   "language": "python",
   "name": "python3"
  },
  "language_info": {
   "codemirror_mode": {
    "name": "ipython",
    "version": 3
   },
   "file_extension": ".py",
   "mimetype": "text/x-python",
   "name": "python",
   "nbconvert_exporter": "python",
   "pygments_lexer": "ipython3",
   "version": "3.6.6"
  }
 },
 "nbformat": 4,
 "nbformat_minor": 4
}
