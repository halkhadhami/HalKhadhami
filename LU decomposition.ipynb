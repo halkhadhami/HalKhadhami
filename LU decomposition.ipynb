{
 "cells": [
  {
   "cell_type": "code",
   "execution_count": 885,
   "metadata": {},
   "outputs": [],
   "source": [
    "import numpy as np"
   ]
  },
  {
   "cell_type": "code",
   "execution_count": 886,
   "metadata": {},
   "outputs": [],
   "source": [
    "# system matrix\n",
    "#A = np.array([[1,1,-1],[1,2,-2],[-2,1,1]])\n",
    "A = np.array([[2,-1,0],[-1,2,-1],[0,-1,2]])\n",
    "b = np.array([1,1,1])"
   ]
  },
  {
   "cell_type": "markdown",
   "metadata": {},
   "source": [
    "## forward substitution"
   ]
  },
  {
   "cell_type": "code",
   "execution_count": 887,
   "metadata": {},
   "outputs": [],
   "source": [
    "def for_sub(L, b):\n",
    "    \n",
    "    n = L.shape[0]\n",
    "    y = np.zeros_like(b, dtype=np.double)\n",
    "    y[0] = b[0] / L[0, 0]\n",
    "    \n",
    "    for i in range(1, n):\n",
    "        y[i] = (b[i] - np.dot(L[i,:i], y[:i])) / L[i,i]\n",
    "        \n",
    "    return y"
   ]
  },
  {
   "cell_type": "markdown",
   "metadata": {},
   "source": [
    "## backward substitution"
   ]
  },
  {
   "cell_type": "code",
   "execution_count": 888,
   "metadata": {},
   "outputs": [],
   "source": [
    "def bac_sub(U, y):\n",
    "    \n",
    "    n = U.shape[0]\n",
    "    x = np.zeros_like(y, dtype=np.double)\n",
    "    x[-1] = y[-1] / U[-1, -1]\n",
    "    \n",
    "    for i in range(n-2, -1, -1):\n",
    "        x[i] = (y[i] - np.dot(U[i,i:], x[i:])) / U[i,i]\n",
    "        \n",
    "    return x"
   ]
  },
  {
   "cell_type": "markdown",
   "metadata": {},
   "source": [
    "## Doolittle decomposition"
   ]
  },
  {
   "cell_type": "code",
   "execution_count": 889,
   "metadata": {},
   "outputs": [],
   "source": [
    "def doolittle(A):\n",
    "    \n",
    "    n = A.shape[0]\n",
    "    \n",
    "    U = np.zeros((n, n), dtype=np.double)\n",
    "    L = np.eye(n, dtype=np.double)\n",
    "    \n",
    "    for k in range(n):\n",
    "        \n",
    "        U[k, k:] = A[k, k:] - L[k,:k] @ U[:k,k:]\n",
    "        L[(k+1):,k] = (A[(k+1):,k] - L[(k+1):,:] @ U[:,k]) / U[k, k]\n",
    "    \n",
    "    return L, U"
   ]
  },
  {
   "cell_type": "code",
   "execution_count": 890,
   "metadata": {},
   "outputs": [
    {
     "name": "stdout",
     "output_type": "stream",
     "text": [
      "d-lower matrix\n",
      " [[ 1.          0.          0.        ]\n",
      " [-0.5         1.          0.        ]\n",
      " [ 0.         -0.66666667  1.        ]] \n",
      " d-uper matrix\n",
      " [[ 2.         -1.          0.        ]\n",
      " [ 0.          1.5        -1.        ]\n",
      " [ 0.          0.          1.33333333]] \n",
      "\n",
      "the group of solution is: \n",
      " [1.5 2.  1.5]\n"
     ]
    }
   ],
   "source": [
    "l,u = doolittle(A)\n",
    "print('d-lower matrix\\n',l,'\\n','d-uper matrix\\n',u,'\\n')\n",
    "\n",
    "y = for_sub(l,b)\n",
    "x = bac_sub(u,y)\n",
    "print('the group of solution is: \\n',x)"
   ]
  },
  {
   "cell_type": "markdown",
   "metadata": {},
   "source": [
    "## crout decomposition"
   ]
  },
  {
   "cell_type": "code",
   "execution_count": 891,
   "metadata": {},
   "outputs": [],
   "source": [
    "def crout(A):\n",
    "    \n",
    "    n = A.shape[0]\n",
    "    \n",
    "    U = np.zeros((n, n), dtype=np.double)\n",
    "    L = np.zeros((n, n), dtype=np.double)\n",
    "    \n",
    "    for k in range(n):\n",
    "        \n",
    "        L[k, k] = A[k, k] - L[k, :] @ U[:, k]\n",
    "        \n",
    "        U[k, k:] = (A[k, k:] - L[k, :k] @ U[:k, k:]) / L[k, k]\n",
    "        L[(k+1):, k] = (A[(k+1):, k] - L[(k+1):, :] @ U[:, k]) / U[k, k]\n",
    "    \n",
    "    return L, U"
   ]
  },
  {
   "cell_type": "code",
   "execution_count": 892,
   "metadata": {},
   "outputs": [
    {
     "name": "stdout",
     "output_type": "stream",
     "text": [
      "c-lower matrix\n",
      " [[ 2.          0.          0.        ]\n",
      " [-1.          1.5         0.        ]\n",
      " [ 0.         -1.          1.33333333]] \n",
      " c-uper matrix\n",
      " [[ 1.         -0.5         0.        ]\n",
      " [ 0.          1.         -0.66666667]\n",
      " [ 0.          0.          1.        ]] \n",
      "\n",
      "the group of solution is: \n",
      " [1.5 2.  1.5]\n"
     ]
    }
   ],
   "source": [
    "l,u = crout(A)\n",
    "print('c-lower matrix\\n',l,'\\n','c-uper matrix\\n',u,'\\n')\n",
    "\n",
    "y = for_sub(l,b)\n",
    "x = bac_sub(u,y)\n",
    "print('the group of solution is: \\n',x)"
   ]
  },
  {
   "cell_type": "markdown",
   "metadata": {},
   "source": [
    "## cholesky decomposition"
   ]
  },
  {
   "cell_type": "code",
   "execution_count": 893,
   "metadata": {},
   "outputs": [],
   "source": [
    "def cholesky(A):\n",
    "    \n",
    "    n = A.shape[0]\n",
    "    U = np.zeros((n, n), dtype=np.double)\n",
    "    \n",
    "    for k in range(n):\n",
    "        U[k, k] = np.sqrt(A[k,k] - np.sum(U[:,k] ** 2))\n",
    "        U[k,(k+1):] = (A[k,(k+1):] - np.sum(np.dot(U[:,k] , U[:,(k+1):]))) / U[k, k]\n",
    "    L=U.T\n",
    "    return L,U"
   ]
  },
  {
   "cell_type": "code",
   "execution_count": 894,
   "metadata": {},
   "outputs": [
    {
     "name": "stdout",
     "output_type": "stream",
     "text": [
      "ch-lower matrix\n",
      " [[ 1.41421356  0.          0.        ]\n",
      " [-0.70710678  1.22474487  0.        ]\n",
      " [ 0.         -0.81649658  1.15470054]] \n",
      " ch-uper matrix\n",
      " [[ 1.41421356 -0.70710678  0.        ]\n",
      " [ 0.          1.22474487 -0.81649658]\n",
      " [ 0.          0.          1.15470054]] \n",
      "\n",
      "the group of solution is: \n",
      " [1.5 2.  1.5]\n"
     ]
    }
   ],
   "source": [
    "l,u = cholesky(A)\n",
    "print('ch-lower matrix\\n',l,'\\n','ch-uper matrix\\n',u,'\\n')\n",
    "\n",
    "y = for_sub(l,b)\n",
    "x = bac_sub(u,y)\n",
    "print('the group of solution is: \\n',x)"
   ]
  },
  {
   "cell_type": "code",
   "execution_count": 895,
   "metadata": {},
   "outputs": [
    {
     "name": "stdout",
     "output_type": "stream",
     "text": [
      "[[ 2 -1  0]\n",
      " [-1  2 -1]\n",
      " [ 0 -1  2]]\n",
      "[ 0 -1]\n",
      "[2]\n"
     ]
    }
   ],
   "source": [
    "print(A)\n",
    "k=2\n",
    "print(A[:k,k])\n",
    "print(A[k:,k])"
   ]
  },
  {
   "cell_type": "code",
   "execution_count": null,
   "metadata": {},
   "outputs": [],
   "source": []
  }
 ],
 "metadata": {
  "kernelspec": {
   "display_name": "Python 3",
   "language": "python",
   "name": "python3"
  },
  "language_info": {
   "codemirror_mode": {
    "name": "ipython",
    "version": 3
   },
   "file_extension": ".py",
   "mimetype": "text/x-python",
   "name": "python",
   "nbconvert_exporter": "python",
   "pygments_lexer": "ipython3",
   "version": "3.6.6"
  }
 },
 "nbformat": 4,
 "nbformat_minor": 4
}
